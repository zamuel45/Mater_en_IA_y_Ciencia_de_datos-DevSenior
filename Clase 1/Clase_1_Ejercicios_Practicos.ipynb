{
 "cells": [
  {
   "cell_type": "markdown",
   "id": "6b1a6f3d",
   "metadata": {},
   "source": [
    "# Clase 1: Ejercicios Prácticos de Python\n",
    "\n",
    "Este notebook contiene ejercicios simples para practicar los conceptos básicos de Python vistos en la clase 1 de Introducción a IA y Ciencia de Datos. Resuelve cada ejercicio en la celda correspondiente y prueba tus conocimientos."
   ]
  },
  {
   "cell_type": "markdown",
   "id": "1d501c5c",
   "metadata": {},
   "source": [
    "## Ejercicio 1: Variables y tipos\n",
    "\n",
    "Crea una variable llamada `nombre` que almacene tu nombre y una variable `edad` que almacene tu edad. Muestra ambos valores usando `print()`."
   ]
  },
  {
   "cell_type": "code",
   "execution_count": 7,
   "id": "24dca6f5",
   "metadata": {},
   "outputs": [
    {
     "name": "stdout",
     "output_type": "stream",
     "text": [
      "Zamuel 17\n"
     ]
    }
   ],
   "source": [
    "# Escribe tu solución aquí\n",
    "nombre = \"Zamuel\"\n",
    "edad= 17\n",
    "print(nombre, edad)"
   ]
  },
  {
   "cell_type": "code",
   "execution_count": null,
   "id": "501aff82",
   "metadata": {},
   "outputs": [],
   "source": []
  },
  {
   "cell_type": "markdown",
   "id": "92b9fd3b",
   "metadata": {},
   "source": [
    "## Ejercicio 2: Operaciones aritméticas\n",
    "\n",
    "Declara dos variables numéricas, súmalas, réstalas, multiplícalas y divídelas. Muestra los resultados con `print()`."
   ]
  },
  {
   "cell_type": "code",
   "execution_count": 2,
   "id": "d71e53c3",
   "metadata": {},
   "outputs": [],
   "source": [
    "# Escribe tu solución aquí\n"
   ]
  },
  {
   "cell_type": "markdown",
   "id": "38ba6568",
   "metadata": {},
   "source": [
    "## Ejercicio 3: Listas\n",
    "\n",
    "Crea una lista con 5 elementos (pueden ser números o palabras). Muestra la lista y accede al primer y último elemento usando índices."
   ]
  },
  {
   "cell_type": "code",
   "execution_count": 3,
   "id": "ed817d70",
   "metadata": {},
   "outputs": [],
   "source": [
    "# Escribe tu solución aquí\n"
   ]
  },
  {
   "cell_type": "markdown",
   "id": "7ebd08bc",
   "metadata": {},
   "source": [
    "## Ejercicio 4: Diccionarios\n",
    "\n",
    "Crea un diccionario que almacene información de una persona (por ejemplo: nombre, edad, ciudad). Muestra el diccionario y accede al valor de la clave `nombre`."
   ]
  },
  {
   "cell_type": "code",
   "execution_count": 4,
   "id": "4fac3059",
   "metadata": {},
   "outputs": [],
   "source": [
    "# Escribe tu solución aquí\n"
   ]
  },
  {
   "cell_type": "markdown",
   "id": "66c0fa02",
   "metadata": {},
   "source": [
    "## Ejercicio 5: Conversión de tipos\n",
    "\n",
    "Convierte una variable de tipo entero a cadena y una cadena a entero. Muestra los resultados y verifica los tipos con la función `type()`."
   ]
  },
  {
   "cell_type": "code",
   "execution_count": 5,
   "id": "8bde8b17",
   "metadata": {},
   "outputs": [],
   "source": [
    "# Escribe tu solución aquí\n",
    "\n"
   ]
  },
  {
   "cell_type": "markdown",
   "id": "eb9a0db3",
   "metadata": {},
   "source": [
    "## Ejercicio 6: Tu propio ejemplo\n",
    "\n",
    "Crea un ejercicio simple usando lo que has aprendido (variables, operaciones, listas o diccionarios). Escribe el enunciado y la solución en las celdas siguientes."
   ]
  },
  {
   "cell_type": "code",
   "execution_count": 6,
   "id": "aca7c0fd",
   "metadata": {},
   "outputs": [],
   "source": [
    "# Escribe aquí tu propio ejercicio y solución\n"
   ]
  }
 ],
 "metadata": {
  "kernelspec": {
   "display_name": "Python 3",
   "language": "python",
   "name": "python3"
  },
  "language_info": {
   "codemirror_mode": {
    "name": "ipython",
    "version": 3
   },
   "file_extension": ".py",
   "mimetype": "text/x-python",
   "name": "python",
   "nbconvert_exporter": "python",
   "pygments_lexer": "ipython3",
   "version": "3.13.6"
  }
 },
 "nbformat": 4,
 "nbformat_minor": 5
}
